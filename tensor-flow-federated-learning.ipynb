{
 "cells": [
  {
   "cell_type": "code",
   "execution_count": 5,
   "id": "d75b6b3e",
   "metadata": {},
   "outputs": [
    {
     "ename": "ModuleNotFoundError",
     "evalue": "No module named 'tensorflow_federated'",
     "output_type": "error",
     "traceback": [
      "\u001b[1;31m---------------------------------------------------------------------------\u001b[0m",
      "\u001b[1;31mModuleNotFoundError\u001b[0m                       Traceback (most recent call last)",
      "\u001b[1;32mC:\\Users\\STEFAN~1\\AppData\\Local\\Temp/ipykernel_15648/3934854276.py\u001b[0m in \u001b[0;36m<module>\u001b[1;34m\u001b[0m\n\u001b[0;32m      1\u001b[0m \u001b[1;32mimport\u001b[0m \u001b[0mtensorflow\u001b[0m \u001b[1;32mas\u001b[0m \u001b[0mtf\u001b[0m\u001b[1;33m\u001b[0m\u001b[1;33m\u001b[0m\u001b[0m\n\u001b[1;32m----> 2\u001b[1;33m \u001b[1;32mimport\u001b[0m \u001b[0mtensorflow_federated\u001b[0m \u001b[1;32mas\u001b[0m \u001b[0mtff\u001b[0m\u001b[1;33m\u001b[0m\u001b[1;33m\u001b[0m\u001b[0m\n\u001b[0m",
      "\u001b[1;31mModuleNotFoundError\u001b[0m: No module named 'tensorflow_federated'"
     ]
    }
   ],
   "source": [
    "import tensorflow as tf\n",
    "import tensorflow_federated as tff"
   ]
  },
  {
   "cell_type": "code",
   "execution_count": null,
   "id": "cb9a0eca",
   "metadata": {},
   "outputs": [],
   "source": [
    "\n",
    "# Load simulation data.\n",
    "source, _ = tff.simulation.datasets.emnist.load_data()\n",
    "def client_data(n):\n",
    "    return source.create_tf_dataset_for_client(source.client_ids[n]).map(\n",
    "        lambda e: (tf.reshape(e['pixels'], [-1]), e['label'])\n",
    "    ).repeat(10).batch(20)\n",
    "\n",
    "# Pick a subset of client devices to participate in training.\n",
    "train_data = [client_data(n) for n in range(3)]\n",
    "\n",
    "# Wrap a Keras model for use with TFF.\n",
    "def model_fn():\n",
    "    model = tf.keras.models.Sequential([\n",
    "        tf.keras.layers.Dense(10, tf.nn.softmax, input_shape=(784,),\n",
    "                            kernel_initializer='zeros')\n",
    "    ])\n",
    "    return tff.learning.from_keras_model(\n",
    "        model,\n",
    "        input_spec=train_data[0].element_spec,\n",
    "        loss=tf.keras.losses.SparseCategoricalCrossentropy(),\n",
    "        metrics=[tf.keras.metrics.SparseCategoricalAccuracy()])\n",
    "\n",
    "# Simulate a few rounds of training with the selected client devices.\n",
    "trainer = tff.learning.build_federated_averaging_process(\n",
    "    model_fn,\n",
    "    client_optimizer_fn=lambda: tf.keras.optimizers.SGD(0.1))\n",
    "state = trainer.initialize()\n",
    "for _ in range(5):\n",
    "    state, metrics = trainer.next(state, train_data)\n",
    "    print(metrics['train']['loss'])"
   ]
  }
 ],
 "metadata": {
  "kernelspec": {
   "display_name": "Python 3 (ipykernel)",
   "language": "python",
   "name": "python3"
  },
  "language_info": {
   "codemirror_mode": {
    "name": "ipython",
    "version": 3
   },
   "file_extension": ".py",
   "mimetype": "text/x-python",
   "name": "python",
   "nbconvert_exporter": "python",
   "pygments_lexer": "ipython3",
   "version": "3.7.3"
  }
 },
 "nbformat": 4,
 "nbformat_minor": 5
}
