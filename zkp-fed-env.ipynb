{
 "cells": [
  {
   "cell_type": "markdown",
   "id": "c3f2c68e",
   "metadata": {},
   "source": [
    "### Imports & Settings"
   ]
  },
  {
   "cell_type": "code",
   "execution_count": 1,
   "id": "bc23df60",
   "metadata": {},
   "outputs": [],
   "source": [
    "from collections import Counter\n",
    "import time\n",
    "import numpy as np\n",
    "import nn_model as nn\n",
    "from utils import properties as p\n",
    "from utils import get_rnd_ethnicity\n",
    "import hashlib"
   ]
  },
  {
   "cell_type": "markdown",
   "id": "83ca69a3",
   "metadata": {},
   "source": [
    "### Parameters"
   ]
  },
  {
   "cell_type": "code",
   "execution_count": 2,
   "id": "5ab0922c",
   "metadata": {},
   "outputs": [],
   "source": [
    "epochs_n = 1\n",
    "learning_rate = 0.1\n",
    "seed = 19101995"
   ]
  },
  {
   "cell_type": "markdown",
   "id": "3eaa8809",
   "metadata": {},
   "source": [
    "### Model classes"
   ]
  },
  {
   "cell_type": "code",
   "execution_count": 3,
   "id": "a28b8281",
   "metadata": {},
   "outputs": [],
   "source": [
    "#Server \n",
    "class FairServer:\n",
    "    def __init__(self, model):\n",
    "        self.model = LearningModel(model)\n",
    "        self.workers = []\n",
    "        self.groups = Counter()\n",
    "        \n",
    "    def register_worker(self, worker):\n",
    "        self.workers += [worker]\n",
    "        \n",
    "    def register_feature_group(self, group):\n",
    "        self.groups.update({group : 1})\n",
    "\n",
    "    def send_model(self, worker):\n",
    "        worker.load_model(self.model)\n",
    "        \n",
    "    def load_weights(self, W):\n",
    "        self.model.set_weights(W)\n",
    "        \n",
    "    def request_training(self, w):\n",
    "        w.train()\n",
    "    \n",
    "    def train(self):\n",
    "        for w in self.workers:\n",
    "            self.send_model(w)\n",
    "            self.request_training(w)\n",
    "            \n",
    "    def fair_metrics(self):\n",
    "        return 'Fair metrics: '\n",
    "    \n",
    "    def predict(self, x):\n",
    "        return self.model.predict(x)"
   ]
  },
  {
   "cell_type": "code",
   "execution_count": 4,
   "id": "c8152a14",
   "metadata": {},
   "outputs": [],
   "source": [
    "#Worker \n",
    "class Worker():\n",
    "    def __init__(self, server, x, y, secret_feature):\n",
    "        self.server = server\n",
    "        self.model = {}\n",
    "        self.x = x\n",
    "        self.y = y\n",
    "        self.secret_feature = secret_feature\n",
    "        \n",
    "    def send_registration(self):\n",
    "        self.server.register_worker(self)\n",
    "        \n",
    "    def send_feature_group(self):\n",
    "        secret = hashlib.sha256()\n",
    "        secret.update(self.secret_feature.encode('utf-8'))\n",
    "        self.server.register_feature_group(secret.hexdigest())\n",
    "        \n",
    "    def load_model(self, model):\n",
    "        self.model = model\n",
    "        \n",
    "    def send_weights(self, W):\n",
    "        self.server.load_weights(W)\n",
    "        \n",
    "    def train(self):\n",
    "        self.model.train(self.x, self.y)\n",
    "        self.send_weights(self.model.get_weights())\n",
    "        self.send_feature_group()"
   ]
  },
  {
   "cell_type": "code",
   "execution_count": 5,
   "id": "fde08773",
   "metadata": {},
   "outputs": [],
   "source": [
    "class LearningModel:\n",
    "    def __init__(self, model, epochs=epochs_n, learning_rate=learning_rate):\n",
    "        self.model = model\n",
    "        self.epochs = epochs\n",
    "        self.learning_rate = learning_rate\n",
    "    \n",
    "    def set_weights(self, W):\n",
    "        self.model.load_weights(W)\n",
    "        \n",
    "    def get_weights(self):\n",
    "        return self.model.get_weights()\n",
    "    \n",
    "    def train(self, X, y):\n",
    "        self.model.fit(X, y, self.epochs, self.learning_rate)\n",
    "    \n",
    "    def predict(self, x):\n",
    "        return self.model.predict(x)"
   ]
  },
  {
   "cell_type": "markdown",
   "id": "43f954f9",
   "metadata": {},
   "source": [
    "### Utils functions"
   ]
  },
  {
   "cell_type": "code",
   "execution_count": 6,
   "id": "9bebf58f",
   "metadata": {},
   "outputs": [],
   "source": [
    "#Create a server\n",
    "def create_server(model):\n",
    "    return FairServer(model)\n",
    "\n",
    "#Create workers\n",
    "def create_workers(server, X, y, secret_feature):\n",
    "    return[Worker(server, X[i], y[i], secret_feature[i]) for i in range(len(X))]\n",
    "\n",
    "#Register all workers\n",
    "def register_workers(workers):\n",
    "    for worker in workers:\n",
    "        worker.send_registration()\n",
    "        \n",
    "def start_training(server):\n",
    "    start_train = time.time()\n",
    "    server.train()\n",
    "    end_train = time.time()\n",
    "    #print('Training time:' + str(end_train - start_train))\n",
    "    \n",
    "def znp_fed_training(model, X, y, secret):\n",
    "    s = create_server(model)\n",
    "    ws = create_workers(s, X, y, secret)\n",
    "    register_workers(ws)\n",
    "    start_training(s)\n",
    "    #print(s.fair_metrics())\n",
    "    return s, ws"
   ]
  },
  {
   "cell_type": "markdown",
   "id": "a35a7776",
   "metadata": {},
   "source": [
    "### Model for reference"
   ]
  },
  {
   "cell_type": "code",
   "execution_count": 7,
   "id": "d509354a",
   "metadata": {},
   "outputs": [],
   "source": [
    "# network (not federated)\n",
    "net = nn.get_3l_nn(2, 2, 1)\n",
    "\n",
    "X = np.array([[[[0, 0]]], [[[0, 1]]], [[[1, 0]]], [[[1, 1]]]])\n",
    "y = np.array([[[[0]]], [[[1]]], [[[1]]], [[[0]]]])\n",
    "\n",
    "#train\n",
    "for i in range(len(X)):\n",
    "    net.fit(X[i], y[i], epochs=epochs_n, learning_rate=learning_rate)\n",
    "\n",
    "# test\n",
    "out = net.predict(X)"
   ]
  },
  {
   "cell_type": "markdown",
   "id": "620b319b",
   "metadata": {},
   "source": [
    "### Model for Fed-Learning"
   ]
  },
  {
   "cell_type": "code",
   "execution_count": 8,
   "id": "b12deb8e",
   "metadata": {},
   "outputs": [],
   "source": [
    "# network (for federated learning)\n",
    "net2 = nn.get_3l_nn(2, 2, 1)\n",
    "\n",
    "#train\n",
    "s, ws = znp_fed_training(net2, X, y, [get_rnd_ethnicity() for i in range(len(X))])\n",
    "\n",
    "#test\n",
    "out2 = s.predict(X)"
   ]
  },
  {
   "cell_type": "markdown",
   "id": "ba23383c",
   "metadata": {},
   "source": [
    "### Test if the 2 models behave in the same way"
   ]
  },
  {
   "cell_type": "code",
   "execution_count": 9,
   "id": "ae0c1847",
   "metadata": {},
   "outputs": [
    {
     "data": {
      "text/plain": [
       "True"
      ]
     },
     "execution_count": 9,
     "metadata": {},
     "output_type": "execute_result"
    }
   ],
   "source": [
    "np.array_equal(out, out2)"
   ]
  },
  {
   "cell_type": "markdown",
   "id": "292e7e2d",
   "metadata": {},
   "source": [
    "### Test if workers retain feature [ethnicity]"
   ]
  },
  {
   "cell_type": "code",
   "execution_count": 13,
   "id": "a8b15af4",
   "metadata": {},
   "outputs": [],
   "source": [
    "def encode_sha256(s):\n",
    "    secret = hashlib.sha256()\n",
    "    secret.update(s.encode('utf-8'))\n",
    "    return secret.hexdigest()"
   ]
  },
  {
   "cell_type": "code",
   "execution_count": 15,
   "id": "1d13c1a7",
   "metadata": {},
   "outputs": [
    {
     "data": {
      "text/plain": [
       "(['Indian', 'Other', 'White', 'Indian'],\n",
       " Counter({'67081fb2a08a41f6e8e8b79e6319f9bb5de5d30a84a681ca22fbea019b75114d': 2,\n",
       "          'f97e9da0e3b879f0a9df979ae260a5f7e1371edb127c1862d4f861981166cdc1': 1,\n",
       "          '3495e757855a5c678addcf32516274e2962d0572f065378dba689e22168f28dd': 1}),\n",
       " Counter({'67081fb2a08a41f6e8e8b79e6319f9bb5de5d30a84a681ca22fbea019b75114d': 2,\n",
       "          'f97e9da0e3b879f0a9df979ae260a5f7e1371edb127c1862d4f861981166cdc1': 1,\n",
       "          '3495e757855a5c678addcf32516274e2962d0572f065378dba689e22168f28dd': 1}))"
      ]
     },
     "execution_count": 15,
     "metadata": {},
     "output_type": "execute_result"
    }
   ],
   "source": [
    "w_groups = [w.secret_feature for w in ws] \n",
    "h_groups = [encode_sha256(s) for s in w_groups]\n",
    "cnt = Counter()\n",
    "for h in h_groups:\n",
    "    cnt.update({h : 1})\n",
    "    \n",
    "#check if the two counters are equal\n",
    "#w_groups, s.groups, cnt\n",
    "s.groups & cnt == s.groups"
   ]
  }
 ],
 "metadata": {
  "kernelspec": {
   "display_name": "Python 3 (ipykernel)",
   "language": "python",
   "name": "python3"
  },
  "language_info": {
   "codemirror_mode": {
    "name": "ipython",
    "version": 3
   },
   "file_extension": ".py",
   "mimetype": "text/x-python",
   "name": "python",
   "nbconvert_exporter": "python",
   "pygments_lexer": "ipython3",
   "version": "3.7.3"
  }
 },
 "nbformat": 4,
 "nbformat_minor": 5
}
