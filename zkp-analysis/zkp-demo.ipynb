{
 "cells": [
  {
   "cell_type": "code",
   "execution_count": 1,
   "id": "ab7bc154",
   "metadata": {},
   "outputs": [],
   "source": [
    "\"\"\"\n",
    "Extremely simple example of NoKnow ZK Proof implementation\n",
    "\"\"\"\n",
    "from noknow.core import ZK, ZKSignature, ZKParameters, ZKData, ZKProof"
   ]
  },
  {
   "cell_type": "code",
   "execution_count": 2,
   "id": "2475f8b0",
   "metadata": {},
   "outputs": [
    {
     "name": "stdout",
     "output_type": "stream",
     "text": [
      "True\n"
     ]
    }
   ],
   "source": [
    "#CLIENT\n",
    "client_zk = ZK.new(curve_name=\"secp256k1\", hash_alg=\"sha3_256\")\n",
    "# Create signature and send to server\n",
    "signature = client_zk.create_signature('password')\n",
    "to_send = signature.dump()\n",
    "\n",
    "#SERVER\n",
    "server_password = \"SecretServerPassword\"\n",
    "server_zk = ZK.new(curve_name=\"secp384r1\", hash_alg=\"sha3_512\")\n",
    "server_signature: ZKSignature = server_zk.create_signature(server_password)\n",
    "client_signature = ZKSignature.load(to_send)\n",
    "s_client_zk = ZK(client_signature.params)\n",
    "# Create a signed token and send to the client\n",
    "token = server_zk.sign(server_password, client_zk.token())\n",
    "token_to_send = token.dump(separator=':')\n",
    "\n",
    "#CLIENT\n",
    "# Create a proof that signs the provided token and sends to server\n",
    "proof = client_zk.sign('password', token_to_send).dump()\n",
    "\n",
    "#SERVER\n",
    "server_proof = ZKData.load(proof)\n",
    "token = ZKData.load(server_proof.data, \":\")\n",
    "if not server_zk.verify(token, server_signature):\n",
    "    print('not verified')\n",
    "else:\n",
    "    print(client_zk.verify(server_proof, client_signature, data=token))"
   ]
  },
  {
   "cell_type": "code",
   "execution_count": 3,
   "id": "554c81aa",
   "metadata": {},
   "outputs": [
    {
     "data": {
      "text/plain": [
       "ZKParameters(alg='sha3_256', curve='secp256k1', s=23608927887141309118176796111938797861295800384779551410299281113229257899345)"
      ]
     },
     "execution_count": 3,
     "metadata": {},
     "output_type": "execute_result"
    }
   ],
   "source": [
    "client_signature.params"
   ]
  },
  {
   "cell_type": "code",
   "execution_count": 4,
   "id": "a5caafa1",
   "metadata": {},
   "outputs": [
    {
     "data": {
      "text/plain": [
       "ZKParameters(alg='sha3_256', curve='secp256k1', s=23608927887141309118176796111938797861295800384779551410299281113229257899345)"
      ]
     },
     "execution_count": 4,
     "metadata": {},
     "output_type": "execute_result"
    }
   ],
   "source": [
    "client_zk.params"
   ]
  },
  {
   "cell_type": "code",
   "execution_count": 8,
   "id": "f5ecd2a2",
   "metadata": {},
   "outputs": [
    {
     "data": {
      "text/plain": [
       "(55066263022277343669578718895168534326250603453777594175500187360389116729240,\n",
       " 32670510020758816978083085130507043184471273380659243275938904335757337482424)"
      ]
     },
     "execution_count": 8,
     "metadata": {},
     "output_type": "execute_result"
    }
   ],
   "source": [
    "client_zk.curve.generator.x, client_zk.curve.generator.y"
   ]
  },
  {
   "cell_type": "code",
   "execution_count": 9,
   "id": "9efc6672",
   "metadata": {},
   "outputs": [
    {
     "data": {
      "text/plain": [
       "'(0x79be667ef9dcbbac55a06295ce870b07029bfcdb2dce28d959f2815b16f81798 , 0x483ada7726a3c4655da4fbfc0e1108a8fd17b448a68554199c47d08ffb10d4b8)'"
      ]
     },
     "execution_count": 9,
     "metadata": {},
     "output_type": "execute_result"
    }
   ],
   "source": [
    "str(client_zk.curve.generator)"
   ]
  },
  {
   "cell_type": "code",
   "execution_count": null,
   "id": "3db613d1",
   "metadata": {},
   "outputs": [],
   "source": []
  }
 ],
 "metadata": {
  "kernelspec": {
   "display_name": "Python 3 (ipykernel)",
   "language": "python",
   "name": "python3"
  },
  "language_info": {
   "codemirror_mode": {
    "name": "ipython",
    "version": 3
   },
   "file_extension": ".py",
   "mimetype": "text/x-python",
   "name": "python",
   "nbconvert_exporter": "python",
   "pygments_lexer": "ipython3",
   "version": "3.7.3"
  }
 },
 "nbformat": 4,
 "nbformat_minor": 5
}
