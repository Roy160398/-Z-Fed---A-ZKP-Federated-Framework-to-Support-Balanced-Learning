{
 "cells": [
  {
   "cell_type": "markdown",
   "id": "d924c2af",
   "metadata": {},
   "source": [
    "### Imports and config"
   ]
  },
  {
   "cell_type": "code",
   "execution_count": 1,
   "id": "69f538d8",
   "metadata": {},
   "outputs": [],
   "source": [
    "import pandas as pd\n",
    "from PIL import Image\n",
    "import matplotlib.pyplot as plt\n",
    "from sklearn.model_selection import train_test_split\n",
    "import numpy as np\n",
    "from sklearn.metrics import confusion_matrix\n",
    "from sklearn.metrics import f1_score, r2_score\n",
    "\n",
    "from sklearn import svm\n",
    "\n",
    "%config InlineBackend.figure_format='retina'"
   ]
  },
  {
   "cell_type": "markdown",
   "id": "c4791142",
   "metadata": {},
   "source": [
    "### Read data"
   ]
  },
  {
   "cell_type": "code",
   "execution_count": 2,
   "id": "17e129e5",
   "metadata": {},
   "outputs": [],
   "source": [
    "df = pd.read_csv('../dataset/data.csv')"
   ]
  },
  {
   "cell_type": "markdown",
   "id": "3c20ca4e",
   "metadata": {},
   "source": [
    "### Constants"
   ]
  },
  {
   "cell_type": "code",
   "execution_count": 3,
   "id": "a8aeb8a7",
   "metadata": {},
   "outputs": [],
   "source": [
    "# Ethnicity labels\n",
    "ETHNICITIES = { \n",
    "    0: 'White', \n",
    "    1: 'Black',\n",
    "    2: 'Asian',\n",
    "    3: 'Indian',\n",
    "    4: 'Other'\n",
    "}\n",
    "\n",
    "# Gender labels\n",
    "GENDERS = { \n",
    "    0: 'Male', \n",
    "    1: 'Female'\n",
    "}\n",
    "\n",
    "REVERSE_GENDERS = {\n",
    "    'Male' : 0,\n",
    "    'Female' : 1\n",
    "}\n",
    "\n",
    "#Color channel\n",
    "color_channel = 255\n",
    "\n",
    "#Image size\n",
    "img_size = 48\n",
    "\n",
    "#Age range\n",
    "age_min = 0\n",
    "age_max = 50\n",
    "age_range = age_max - age_min\n",
    "age_bins = 10\n",
    "\n",
    "#Train features\n",
    "#Use\n",
    "feature_to_use = 'pixels'\n",
    "#To predict\n",
    "feature_to_predict = 'age'"
   ]
  },
  {
   "cell_type": "markdown",
   "id": "a5b70506",
   "metadata": {},
   "source": [
    "### Utils"
   ]
  },
  {
   "cell_type": "code",
   "execution_count": 4,
   "id": "c524b481",
   "metadata": {},
   "outputs": [],
   "source": [
    "def render_row(row):\n",
    "    pixels = bytearray([int(px) for px in row['pixels'].split(' ')])\n",
    "    img = Image.frombytes('L', (img_size, img_size), bytes(pixels))\n",
    "    fig, axes = plt.subplots(nrows=1, ncols=1, figsize=(2, 2), dpi=100)\n",
    "    axes.axis('off')\n",
    "    imgplot = plt.imshow(img, cmap='gray')\n",
    "    x_offset_text = 52\n",
    "    plt.text(x_offset_text, 5, 'Age: ' + str(row['age']))\n",
    "    plt.text(x_offset_text, 12, 'Ethnicity: ' + ETHNICITIES[row['ethnicity']])\n",
    "    plt.text(x_offset_text, 19, 'Gender: ' + GENDERS[row['gender']])\n",
    "    plt.show()\n",
    "#render_row(df.loc[0])"
   ]
  },
  {
   "cell_type": "code",
   "execution_count": 5,
   "id": "5083ac87",
   "metadata": {},
   "outputs": [],
   "source": [
    "def age_to_out(age, age_range=age_range):\n",
    "    return age / age_range"
   ]
  },
  {
   "cell_type": "code",
   "execution_count": 6,
   "id": "b8873123",
   "metadata": {},
   "outputs": [],
   "source": [
    "def create_bins(lower_bound, width, quantity):\n",
    "    bins = []\n",
    "    for low in range(lower_bound, \n",
    "                     lower_bound + quantity*width , width):\n",
    "        bins.append((low, low+width))\n",
    "    return bins"
   ]
  },
  {
   "cell_type": "code",
   "execution_count": 7,
   "id": "b6dbb582",
   "metadata": {},
   "outputs": [],
   "source": [
    "bins = create_bins(age_min, age_bins, int(age_range / age_bins))"
   ]
  },
  {
   "cell_type": "code",
   "execution_count": 8,
   "id": "c91c39b9",
   "metadata": {},
   "outputs": [
    {
     "data": {
      "text/plain": [
       "[(0, 10), (10, 20), (20, 30), (30, 40), (40, 50)]"
      ]
     },
     "execution_count": 8,
     "metadata": {},
     "output_type": "execute_result"
    }
   ],
   "source": [
    "bins #to be used if approaching as classification problem"
   ]
  },
  {
   "cell_type": "markdown",
   "id": "740987e5",
   "metadata": {},
   "source": [
    "### Create balanced dataset"
   ]
  },
  {
   "cell_type": "code",
   "execution_count": 9,
   "id": "330dfba0",
   "metadata": {},
   "outputs": [],
   "source": [
    "df['ethnicity'] = df['ethnicity'].map(ETHNICITIES)\n",
    "df['gender'] = df['gender'].map(GENDERS)"
   ]
  },
  {
   "cell_type": "code",
   "execution_count": 10,
   "id": "481b5ab2",
   "metadata": {},
   "outputs": [],
   "source": [
    "#Ethnicity sample size\n",
    "ethnicity_gender_sample_size = 10\n",
    "age_filter = (df['age'] >= age_min) & (df['age'] <= age_max)\n",
    "\n",
    "def ethnicity_gender_filter(df, i, j):\n",
    "    return (df['ethnicity'] == ETHNICITIES[i]) & (df['gender'] == GENDERS[j])\n",
    "\n",
    "def ethnicity_gender_age_filter(df, i, j, age_m, age_M):\n",
    "    return ethnicity_gender_filter(df, i, j) & (df['age'] >= age_m) & (df['age'] < age_M)\n",
    "\n",
    "df_age_filter = df[age_filter][['age', 'ethnicity', 'gender', 'pixels']]\n",
    "\n",
    "balanced_df = pd.concat([\n",
    "    df_age_filter.loc[ethnicity_gender_age_filter(df_age_filter, i, j, age_m, age_M)]\\\n",
    "        .sample(ethnicity_gender_sample_size, random_state=19)\n",
    "    for i in range(len(ETHNICITIES))\n",
    "    for j in range(len(GENDERS))\n",
    "    for (age_m, age_M) in bins\n",
    "])"
   ]
  },
  {
   "cell_type": "code",
   "execution_count": 11,
   "id": "a57de371",
   "metadata": {},
   "outputs": [],
   "source": [
    "def print_summary(dataset):\n",
    "    n_bins = len(bins)\n",
    "    fig, axs = plt.subplots(1, 3, sharey=True, tight_layout=True, figsize=(12, 3))\n",
    "    axs[0].title.set_text('Age')\n",
    "    axs[0].hist(dataset['age'], bins=n_bins)\n",
    "    axs[1].title.set_text('Ethnicity')\n",
    "    axs[1].hist(dataset['ethnicity'], bins=5*2-1)\n",
    "    axs[2].title.set_text('Gender')\n",
    "    axs[2].hist(dataset['gender'], bins=2*2-1)\n",
    "    print(f'Number of records: {len(dataset)}')"
   ]
  },
  {
   "cell_type": "code",
   "execution_count": 12,
   "id": "2d3fa262",
   "metadata": {},
   "outputs": [
    {
     "name": "stdout",
     "output_type": "stream",
     "text": [
      "Number of records: 500\n"
     ]
    },
    {
     "data": {
      "image/png": "[encoded data removed]",
      "text/plain": [
       "<Figure size 864x216 with 3 Axes>"
      ]
     },
     "metadata": {
      "image/png": {
       "height": 208,
       "width": 854
      },
      "needs_background": "light"
     },
     "output_type": "display_data"
    }
   ],
   "source": [
    "print_summary(balanced_df)"
   ]
  },
  {
   "cell_type": "markdown",
   "id": "8e83e3da",
   "metadata": {},
   "source": [
    "### Create Train - Test"
   ]
  },
  {
   "cell_type": "code",
   "execution_count": 13,
   "id": "d50ff620",
   "metadata": {},
   "outputs": [],
   "source": [
    "balanced_df[feature_to_use] = balanced_df[feature_to_use]\\\n",
    "        .apply(lambda x: np.array(x.split(), dtype='float32'))"
   ]
  },
  {
   "cell_type": "code",
   "execution_count": 14,
   "id": "be47655c",
   "metadata": {},
   "outputs": [],
   "source": [
    "X = np.array(balanced_df[feature_to_use].tolist())\n",
    "X = np.reshape(X, (-1, img_size, img_size, 1))\n",
    "y = balanced_df[feature_to_predict].map(age_to_out)\n",
    "X_train, X_test, y_train, y_test = train_test_split(X, y, test_size=0.2, random_state=19)"
   ]
  },
  {
   "cell_type": "markdown",
   "id": "a907e00f",
   "metadata": {},
   "source": [
    "## Custom AdalineSGD"
   ]
  },
  {
   "cell_type": "markdown",
   "id": "5b678f05",
   "metadata": {},
   "source": [
    "### AdaSGD parameters"
   ]
  },
  {
   "cell_type": "code",
   "execution_count": 15,
   "id": "a06b5d06",
   "metadata": {},
   "outputs": [],
   "source": [
    "eta = 0.005\n",
    "n_iter = 25\n",
    "random_state = 19"
   ]
  },
  {
   "cell_type": "markdown",
   "id": "58ccb695",
   "metadata": {},
   "source": [
    "### Model"
   ]
  },
  {
   "cell_type": "code",
   "execution_count": 16,
   "id": "cdbd2dec",
   "metadata": {},
   "outputs": [],
   "source": [
    "from numpy.random import seed\n",
    "class AdalineSGD(object):\n",
    "    def __init__(self, value_range=age_range, eta=0.01, n_iter=20,\n",
    "        shuffle=True, random_state=None):\n",
    "        self.value_range = value_range\n",
    "        self.eta = eta\n",
    "        self.n_iter = n_iter\n",
    "        self.w_initialized = False\n",
    "        self.shuffle = shuffle\n",
    "        if random_state:\n",
    "            seed(random_state)\n",
    "            \n",
    "    def fit(self, X, y):\n",
    "        self._initialize_weights(X.shape[1])\n",
    "        self.cost_ = []\n",
    "        for i in range(self.n_iter):\n",
    "            if self.shuffle:\n",
    "                X, y = self._shuffle(X, y)\n",
    "            cost = []\n",
    "            for xi, target in zip(X, y):\n",
    "                cost.append(self._update_weights(xi, target))\n",
    "            avg_cost = sum(cost)/len(y)\n",
    "            self.cost_.append(avg_cost)\n",
    "        return self\n",
    "    \n",
    "    def _shuffle(self, X, y):\n",
    "        r = np.random.permutation(len(y))\n",
    "        return X[r], y[r]\n",
    "    \n",
    "    def _initialize_weights(self, m):\n",
    "        self.w_ = np.zeros(1 + m)\n",
    "        self.w_initialized = True\n",
    "        \n",
    "    def _update_weights(self, xi, target):\n",
    "        output = self.activation(xi)\n",
    "        error = (target - output)\n",
    "        self.w_[1:] += self.eta * xi.dot(error)\n",
    "        self.w_[0] += self.eta * error\n",
    "        cost = 0.5 * error**2\n",
    "        return cost\n",
    "    \n",
    "    def net_input(self, X):\n",
    "        return np.dot(X, self.w_[1:]) + self.w_[0]\n",
    "    \n",
    "    def activation(self, X):\n",
    "        # Sigmoid\n",
    "        return 1 / (1 + np.exp(-self.net_input(X)))\n",
    "    \n",
    "    def predict(self, X):\n",
    "        return self.activation(X) #* self.value_range"
   ]
  },
  {
   "cell_type": "markdown",
   "id": "38a58fd1",
   "metadata": {},
   "source": [
    "### Data Preparation"
   ]
  },
  {
   "cell_type": "code",
   "execution_count": 17,
   "id": "267712f9",
   "metadata": {},
   "outputs": [],
   "source": [
    "X_ada_train = X_train.reshape(len(X_train), img_size * img_size, ) / color_channel\n",
    "y_ada_train = y_train\n",
    "X_ada_test = X_test.reshape(len(X_test), img_size * img_size, ) / color_channel\n",
    "y_ada_test = y_test"
   ]
  },
  {
   "cell_type": "code",
   "execution_count": 18,
   "id": "7bc2475c",
   "metadata": {},
   "outputs": [
    {
     "data": {
      "image/png": "[encoded data removed]",
      "text/plain": [
       "<Figure size 432x288 with 1 Axes>"
      ]
     },
     "metadata": {
      "image/png": {
       "height": 279,
       "width": 424
      },
      "needs_background": "light"
     },
     "output_type": "display_data"
    }
   ],
   "source": [
    "ada_sgd = AdalineSGD(eta=eta, n_iter=n_iter, shuffle=False, random_state=random_state)\n",
    "ada_sgd.fit(X_ada_train, y_ada_train)\n",
    "plt.plot(\n",
    "    range(1, len(ada_sgd.cost_) + 1),\n",
    "    ada_sgd.cost_, marker='o'\n",
    "        )\n",
    "plt.xlabel('Epochs')\n",
    "plt.ylabel('Average epoch loss')\n",
    "plt.tight_layout()\n",
    "plt.show()"
   ]
  },
  {
   "cell_type": "code",
   "execution_count": 19,
   "id": "ff384a9d",
   "metadata": {},
   "outputs": [],
   "source": [
    "y_ada_pred = ada_sgd.predict(X_ada_test)"
   ]
  },
  {
   "cell_type": "markdown",
   "id": "852aa5ed",
   "metadata": {},
   "source": [
    "### Evaluate AdalineSGD"
   ]
  },
  {
   "cell_type": "code",
   "execution_count": 20,
   "id": "98b1a550",
   "metadata": {},
   "outputs": [],
   "source": [
    "def evaluate_ethnicity(dataset, ethnicity, y_test, model, ada):\n",
    "    y_test_e = dataset[feature_to_predict].loc[dataset['ethnicity'] == ethnicity].filter(items=y_test.index)\n",
    "    y_test_e = y_test_e.map(age_to_out)\n",
    "    X_test_e = dataset[feature_to_use].loc[dataset['ethnicity'] == ethnicity].filter(items=y_test.index).values\n",
    "    X_test_e = np.array(X_test_e.tolist())\n",
    "    X_test_e = np.reshape(X_test_e, (-1, img_size, img_size, 1))\n",
    "    \n",
    "    if ada:\n",
    "        X_test_e = X_test_e.reshape(len(X_test_e), img_size * img_size, ) / color_channel\n",
    "        \n",
    "    y_tf_pred_e = np.rint(model.predict(X_test_e))\n",
    "    score = r2_score(y_test_e, y_tf_pred_e)\n",
    "\n",
    "def evaluate_all_ethnicities(dataset, y_test, model, ada):\n",
    "    scores = [evaluate_ethnicity(dataset, e, y_test, model, ada) for e in ETHNICITIES.values()]\n",
    "    return dict(zip(ETHNICITIES.values(), scores))"
   ]
  },
  {
   "cell_type": "code",
   "execution_count": 21,
   "id": "7e218000",
   "metadata": {},
   "outputs": [
    {
     "data": {
      "text/plain": [
       "-0.35237318030772613"
      ]
     },
     "execution_count": 21,
     "metadata": {},
     "output_type": "execute_result"
    }
   ],
   "source": [
    "r2_score(y_ada_test, y_ada_pred)"
   ]
  },
  {
   "cell_type": "code",
   "execution_count": 22,
   "id": "8160813a",
   "metadata": {},
   "outputs": [
    {
     "data": {
      "text/plain": [
       "{'White': None, 'Black': None, 'Asian': None, 'Indian': None, 'Other': None}"
      ]
     },
     "execution_count": 22,
     "metadata": {},
     "output_type": "execute_result"
    }
   ],
   "source": [
    "evaluate_all_ethnicities(balanced_df, y_ada_test, ada_sgd, True)"
   ]
  },
  {
   "cell_type": "markdown",
   "id": "6b6e2dfe",
   "metadata": {},
   "source": [
    "## SVR model"
   ]
  },
  {
   "cell_type": "code",
   "execution_count": 23,
   "id": "15d9077d",
   "metadata": {},
   "outputs": [
    {
     "data": {
      "text/plain": [
       "SVR()"
      ]
     },
     "execution_count": 23,
     "metadata": {},
     "output_type": "execute_result"
    }
   ],
   "source": [
    "svr = svm.SVR()\n",
    "svr.fit(X_ada_train, y_ada_train)"
   ]
  },
  {
   "cell_type": "code",
   "execution_count": 24,
   "id": "e0b0dce7",
   "metadata": {},
   "outputs": [],
   "source": [
    "y_svr_pred = svr.predict(X_ada_test)"
   ]
  },
  {
   "cell_type": "code",
   "execution_count": 25,
   "id": "e2bea5f1",
   "metadata": {},
   "outputs": [
    {
     "data": {
      "text/plain": [
       "0.2674746182771721"
      ]
     },
     "execution_count": 25,
     "metadata": {},
     "output_type": "execute_result"
    }
   ],
   "source": [
    "r2_score(y_ada_test, y_svr_pred)"
   ]
  },
  {
   "cell_type": "code",
   "execution_count": 26,
   "id": "d995401d",
   "metadata": {},
   "outputs": [
    {
     "data": {
      "text/plain": [
       "{'White': None, 'Black': None, 'Asian': None, 'Indian': None, 'Other': None}"
      ]
     },
     "execution_count": 26,
     "metadata": {},
     "output_type": "execute_result"
    }
   ],
   "source": [
    "evaluate_all_ethnicities(balanced_df, y_ada_test, svr, True)"
   ]
  },
  {
   "cell_type": "markdown",
   "id": "6f40c0a3",
   "metadata": {},
   "source": [
    "## Create unbalanced dataset"
   ]
  },
  {
   "cell_type": "code",
   "execution_count": 37,
   "id": "51b6ee44",
   "metadata": {},
   "outputs": [],
   "source": [
    "#Size of majority group\n",
    "majority_sample_size = 2000\n",
    "#Size of minority group\n",
    "minority_sample_size = int(majority_sample_size * .05)\n",
    "\n",
    "white_male_df = df_age_filter.loc[ethnicity_gender_filter(df_age_filter, 0, 0)]\\\n",
    "        .sample(majority_sample_size, random_state=19)\n",
    "\n",
    "white_female_df = df_age_filter.loc[ethnicity_gender_filter(df_age_filter, 0, 1)]\\\n",
    "        .sample(majority_sample_size, random_state=19)\n",
    "\n",
    "unbalanced_df = pd.concat([\n",
    "    df_age_filter.loc[ethnicity_gender_filter(df_age_filter, i, j)]\\\n",
    "        .sample(minority_sample_size, random_state=19)\n",
    "    for i in range(1, len(ETHNICITIES))\n",
    "    for j in range(len(GENDERS))\n",
    "] + [white_female_df, white_male_df])"
   ]
  },
  {
   "cell_type": "code",
   "execution_count": 38,
   "id": "4fe83358",
   "metadata": {},
   "outputs": [
    {
     "name": "stdout",
     "output_type": "stream",
     "text": [
      "Number of records: 4800\n"
     ]
    },
    {
     "data": {
      "image/png": "[encoded data removed]",
      "text/plain": [
       "<Figure size 864x216 with 3 Axes>"
      ]
     },
     "metadata": {
      "image/png": {
       "height": 208,
       "width": 854
      },
      "needs_background": "light"
     },
     "output_type": "display_data"
    }
   ],
   "source": [
    "print_summary(unbalanced_df)"
   ]
  },
  {
   "cell_type": "markdown",
   "id": "0119da70",
   "metadata": {},
   "source": [
    "### Create Train - Test [Unbalanced]"
   ]
  },
  {
   "cell_type": "code",
   "execution_count": 39,
   "id": "fc6bc1fd",
   "metadata": {},
   "outputs": [],
   "source": [
    "unbalanced_df['pixels'] = unbalanced_df['pixels']\\\n",
    "        .apply(lambda x: np.array(x.split(), dtype='float32'))\n",
    "\n",
    "X_unbalanced = np.array(unbalanced_df['pixels'].tolist())\n",
    "X_unbalanced = np.reshape(X_unbalanced, (-1, img_size, img_size, 1))\n",
    "y_unbalanced = unbalanced_df['gender'].map(REVERSE_GENDERS)\n",
    "X_train_unbalanced, X_test_unbalanced, y_train_unbalanced, y_test_unbalanced = train_test_split(X_unbalanced, y_unbalanced, test_size=0.2, random_state=19)"
   ]
  },
  {
   "cell_type": "markdown",
   "id": "725b82f1",
   "metadata": {},
   "source": [
    "## AdalineSGD Unbalanced"
   ]
  },
  {
   "cell_type": "code",
   "execution_count": 40,
   "id": "901ecd48",
   "metadata": {},
   "outputs": [],
   "source": [
    "X_ada_train_unbalanced = X_train_unbalanced.reshape(len(X_train_unbalanced), img_size * img_size, ) / color_channel\n",
    "y_ada_train_unbalanced = y_train_unbalanced\n",
    "X_ada_test_unbalanced = X_test_unbalanced.reshape(len(X_test_unbalanced), img_size * img_size, ) / color_channel\n",
    "y_ada_test_unbalanced = y_test_unbalanced"
   ]
  },
  {
   "cell_type": "code",
   "execution_count": 41,
   "id": "1171ef50",
   "metadata": {},
   "outputs": [
    {
     "data": {
      "text/plain": [
       "<__main__.AdalineSGD at 0x1a41a5aa358>"
      ]
     },
     "execution_count": 41,
     "metadata": {},
     "output_type": "execute_result"
    }
   ],
   "source": [
    "ada_sgd_unbalanced = AdalineSGD(eta=eta, n_iter=n_iter, shuffle=False, random_state=random_state)\n",
    "ada_sgd_unbalanced.fit(X_ada_train_unbalanced, y_ada_train_unbalanced)"
   ]
  },
  {
   "cell_type": "code",
   "execution_count": 42,
   "id": "10a598e5",
   "metadata": {},
   "outputs": [],
   "source": [
    "y_ada_pred_unbalanced = ada_sgd_unbalanced.predict(X_ada_test_unbalanced)"
   ]
  },
  {
   "cell_type": "code",
   "execution_count": 43,
   "id": "3adf9bd0",
   "metadata": {},
   "outputs": [
    {
     "data": {
      "text/plain": [
       "0.4005656105089659"
      ]
     },
     "execution_count": 43,
     "metadata": {},
     "output_type": "execute_result"
    }
   ],
   "source": [
    "r2_score(y_ada_test_unbalanced, y_ada_pred_unbalanced)"
   ]
  },
  {
   "cell_type": "code",
   "execution_count": 44,
   "id": "c4c26d98",
   "metadata": {},
   "outputs": [
    {
     "data": {
      "text/plain": [
       "{'White': -4.41512100310235,\n",
       " 'Black': -12.918054338299736,\n",
       " 'Asian': -5.0330763240338365,\n",
       " 'Indian': -4.83912437399969,\n",
       " 'Other': -9.479827382944972}"
      ]
     },
     "execution_count": 44,
     "metadata": {},
     "output_type": "execute_result"
    }
   ],
   "source": [
    "evaluate_all_ethnicities(unbalanced_df, y_test_unbalanced, ada_sgd_unbalanced, True)"
   ]
  },
  {
   "cell_type": "code",
   "execution_count": null,
   "id": "e2457dcc",
   "metadata": {},
   "outputs": [],
   "source": []
  }
 ],
 "metadata": {
  "celltoolbar": "Raw Cell Format",
  "kernelspec": {
   "display_name": "Python 3 (ipykernel)",
   "language": "python",
   "name": "python3"
  },
  "language_info": {
   "codemirror_mode": {
    "name": "ipython",
    "version": 3
   },
   "file_extension": ".py",
   "mimetype": "text/x-python",
   "name": "python",
   "nbconvert_exporter": "python",
   "pygments_lexer": "ipython3",
   "version": "3.7.3"
  }
 },
 "nbformat": 4,
 "nbformat_minor": 5
}
