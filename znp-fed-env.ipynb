{
 "cells": [
  {
   "cell_type": "markdown",
   "id": "c3f2c68e",
   "metadata": {},
   "source": [
    "### Imports & Settings"
   ]
  },
  {
   "cell_type": "code",
   "execution_count": 1,
   "id": "bc23df60",
   "metadata": {},
   "outputs": [],
   "source": [
    "from collections import Counter\n",
    "import time"
   ]
  },
  {
   "cell_type": "markdown",
   "id": "3eaa8809",
   "metadata": {},
   "source": [
    "### Model classes"
   ]
  },
  {
   "cell_type": "code",
   "execution_count": 2,
   "id": "a28b8281",
   "metadata": {},
   "outputs": [],
   "source": [
    "#Server \n",
    "class FairServer():\n",
    "    def __init__(self):\n",
    "        self.model = LearningModel()\n",
    "        self.workers = set()\n",
    "        self.groups = Counter()\n",
    "        \n",
    "    def register_worker(self, worker):\n",
    "        self.workers.add(worker)\n",
    "        \n",
    "    def register_feature_group(self, group):\n",
    "        self.groups.update(group)\n",
    "\n",
    "    def send_model(self, worker):\n",
    "        worker.load_model(self.model)\n",
    "        \n",
    "    def load_weights(self, W):\n",
    "        self.model.set_weights(W)\n",
    "        \n",
    "    def request_training(self, w):\n",
    "        w.train()\n",
    "    \n",
    "    def train(self):\n",
    "        for w in self.workers:\n",
    "            self.send_model(w)\n",
    "            self.request_training(w)\n",
    "            print(self.model.W)\n",
    "            \n",
    "    def fair_metrics(self):\n",
    "        return 'Fair metrics: '"
   ]
  },
  {
   "cell_type": "code",
   "execution_count": 3,
   "id": "c8152a14",
   "metadata": {},
   "outputs": [],
   "source": [
    "#Worker \n",
    "class Worker():\n",
    "    def __init__(self, server, data):\n",
    "        self.server = server\n",
    "        self.model = {}\n",
    "        self.data = data\n",
    "        \n",
    "    def send_registration(self):\n",
    "        self.server.register_worker(self)\n",
    "        \n",
    "    def send_feature_group(self):\n",
    "        self.server.register_feature_group('test')\n",
    "        \n",
    "    def load_model(self, model):\n",
    "        self.model = model\n",
    "        \n",
    "    def send_weights(self, W):\n",
    "        self.server.load_weights(W)\n",
    "        \n",
    "    def train(self):\n",
    "        self.model.train(self.data)\n",
    "        self.send_weights(self.model.W)\n",
    "        self.send_feature_group()"
   ]
  },
  {
   "cell_type": "code",
   "execution_count": 4,
   "id": "fde08773",
   "metadata": {},
   "outputs": [],
   "source": [
    "class LearningModel:\n",
    "    def __init__(self):\n",
    "        self.W = [0, 0]\n",
    "        pass\n",
    "    \n",
    "    def set_weights(self, W):\n",
    "        self.W = W\n",
    "    \n",
    "    def train(self, X=None, y=None):\n",
    "        self.W += [1, 1]\n",
    "    \n",
    "    def predict(self, x):\n",
    "        pass "
   ]
  },
  {
   "cell_type": "markdown",
   "id": "43f954f9",
   "metadata": {},
   "source": [
    "### Utils functions"
   ]
  },
  {
   "cell_type": "code",
   "execution_count": 5,
   "id": "9bebf58f",
   "metadata": {},
   "outputs": [],
   "source": [
    "#Create a server\n",
    "def create_server():\n",
    "    return FairServer()\n",
    "\n",
    "#Create workers\n",
    "def create_workers(server, data=None):\n",
    "    return[Worker(server, {}) for i in range(5)]\n",
    "\n",
    "#Register all workers\n",
    "def register_workers(workers):\n",
    "    for worker in workers:\n",
    "        worker.send_registration()\n",
    "        \n",
    "\n",
    "def start_training(server):\n",
    "    start_train = time.time()\n",
    "    server.train()\n",
    "    end_train = time.time()\n",
    "    print('Training time:' + str(end_train - start_train))\n",
    "    \n",
    "def znp_fed_training(model=None, data=None):\n",
    "    s = create_server()\n",
    "    ws = create_workers(s)\n",
    "    register_workers(ws)\n",
    "    start_training(s)\n",
    "    print(s.fair_metrics())"
   ]
  },
  {
   "cell_type": "code",
   "execution_count": 6,
   "id": "06f8aca3",
   "metadata": {},
   "outputs": [
    {
     "name": "stdout",
     "output_type": "stream",
     "text": [
      "[0, 0, 1, 1]\n",
      "[0, 0, 1, 1, 1, 1]\n",
      "[0, 0, 1, 1, 1, 1, 1, 1]\n",
      "[0, 0, 1, 1, 1, 1, 1, 1, 1, 1]\n",
      "[0, 0, 1, 1, 1, 1, 1, 1, 1, 1, 1, 1]\n",
      "Training time:0.003000020980834961\n",
      "Fair metrics: \n"
     ]
    }
   ],
   "source": [
    "znp_fed_training()"
   ]
  },
  {
   "cell_type": "code",
   "execution_count": null,
   "id": "2ae88c1f",
   "metadata": {},
   "outputs": [],
   "source": []
  }
 ],
 "metadata": {
  "kernelspec": {
   "display_name": "Python 3 (ipykernel)",
   "language": "python",
   "name": "python3"
  },
  "language_info": {
   "codemirror_mode": {
    "name": "ipython",
    "version": 3
   },
   "file_extension": ".py",
   "mimetype": "text/x-python",
   "name": "python",
   "nbconvert_exporter": "python",
   "pygments_lexer": "ipython3",
   "version": "3.7.3"
  }
 },
 "nbformat": 4,
 "nbformat_minor": 5
}
